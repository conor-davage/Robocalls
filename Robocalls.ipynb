{
 "cells": [
  {
   "cell_type": "code",
   "execution_count": 1,
   "id": "72cf00b5",
   "metadata": {},
   "outputs": [],
   "source": [
    "import pandas as pd\n",
    "import numpy as np\n",
    "import matplotlib.pyplot as plt"
   ]
  },
  {
   "cell_type": "code",
   "execution_count": 2,
   "id": "0796011c",
   "metadata": {},
   "outputs": [],
   "source": [
    "df = pd.read_csv('historical_robocalls_by_city.csv')"
   ]
  },
  {
   "cell_type": "code",
   "execution_count": 3,
   "id": "022a1397",
   "metadata": {},
   "outputs": [
    {
     "data": {
      "text/html": [
       "<div>\n",
       "<style scoped>\n",
       "    .dataframe tbody tr th:only-of-type {\n",
       "        vertical-align: middle;\n",
       "    }\n",
       "\n",
       "    .dataframe tbody tr th {\n",
       "        vertical-align: top;\n",
       "    }\n",
       "\n",
       "    .dataframe thead th {\n",
       "        text-align: right;\n",
       "    }\n",
       "</style>\n",
       "<table border=\"1\" class=\"dataframe\">\n",
       "  <thead>\n",
       "    <tr style=\"text-align: right;\">\n",
       "      <th></th>\n",
       "      <th>City</th>\n",
       "      <th>State</th>\n",
       "      <th>2021 (so far)</th>\n",
       "      <th>2020</th>\n",
       "      <th>2019</th>\n",
       "      <th>2018</th>\n",
       "      <th>2017</th>\n",
       "      <th>2016</th>\n",
       "    </tr>\n",
       "  </thead>\n",
       "  <tbody>\n",
       "    <tr>\n",
       "      <th>0</th>\n",
       "      <td>Abilene</td>\n",
       "      <td>TX</td>\n",
       "      <td>38,402,300</td>\n",
       "      <td>53,984,400</td>\n",
       "      <td>67,974,500</td>\n",
       "      <td>42,255,600</td>\n",
       "      <td>27,058,500</td>\n",
       "      <td>18,618,000</td>\n",
       "    </tr>\n",
       "    <tr>\n",
       "      <th>1</th>\n",
       "      <td>Akron</td>\n",
       "      <td>OH</td>\n",
       "      <td>153,971,400</td>\n",
       "      <td>297,437,800</td>\n",
       "      <td>365,030,100</td>\n",
       "      <td>256,687,400</td>\n",
       "      <td>163,845,400</td>\n",
       "      <td>118,511,000</td>\n",
       "    </tr>\n",
       "    <tr>\n",
       "      <th>2</th>\n",
       "      <td>Albany</td>\n",
       "      <td>GA</td>\n",
       "      <td>110,537,800</td>\n",
       "      <td>191,977,200</td>\n",
       "      <td>224,315,900</td>\n",
       "      <td>165,630,300</td>\n",
       "      <td>101,086,300</td>\n",
       "      <td>75,714,000</td>\n",
       "    </tr>\n",
       "    <tr>\n",
       "      <th>3</th>\n",
       "      <td>Albuquerque</td>\n",
       "      <td>NM</td>\n",
       "      <td>77,203,100</td>\n",
       "      <td>137,051,500</td>\n",
       "      <td>162,382,200</td>\n",
       "      <td>120,920,800</td>\n",
       "      <td>73,921,200</td>\n",
       "      <td>50,755,500</td>\n",
       "    </tr>\n",
       "    <tr>\n",
       "      <th>4</th>\n",
       "      <td>Alexandria</td>\n",
       "      <td>VA</td>\n",
       "      <td>181,831,200</td>\n",
       "      <td>327,847,600</td>\n",
       "      <td>444,056,300</td>\n",
       "      <td>370,415,000</td>\n",
       "      <td>225,702,400</td>\n",
       "      <td>156,221,500</td>\n",
       "    </tr>\n",
       "  </tbody>\n",
       "</table>\n",
       "</div>"
      ],
      "text/plain": [
       "          City State 2021 (so far)         2020         2019         2018  \\\n",
       "0      Abilene    TX    38,402,300   53,984,400   67,974,500   42,255,600   \n",
       "1        Akron    OH   153,971,400  297,437,800  365,030,100  256,687,400   \n",
       "2       Albany    GA   110,537,800  191,977,200  224,315,900  165,630,300   \n",
       "3  Albuquerque    NM    77,203,100  137,051,500  162,382,200  120,920,800   \n",
       "4   Alexandria    VA   181,831,200  327,847,600  444,056,300  370,415,000   \n",
       "\n",
       "          2017         2016  \n",
       "0   27,058,500   18,618,000  \n",
       "1  163,845,400  118,511,000  \n",
       "2  101,086,300   75,714,000  \n",
       "3   73,921,200   50,755,500  \n",
       "4  225,702,400  156,221,500  "
      ]
     },
     "execution_count": 3,
     "metadata": {},
     "output_type": "execute_result"
    }
   ],
   "source": [
    "df.head()"
   ]
  },
  {
   "cell_type": "code",
   "execution_count": 4,
   "id": "a60755a8",
   "metadata": {},
   "outputs": [
    {
     "name": "stdout",
     "output_type": "stream",
     "text": [
      "<class 'pandas.core.frame.DataFrame'>\n",
      "RangeIndex: 188 entries, 0 to 187\n",
      "Data columns (total 8 columns):\n",
      " #   Column         Non-Null Count  Dtype \n",
      "---  ------         --------------  ----- \n",
      " 0   City           188 non-null    object\n",
      " 1   State          188 non-null    object\n",
      " 2   2021 (so far)  188 non-null    object\n",
      " 3   2020           188 non-null    object\n",
      " 4   2019           188 non-null    object\n",
      " 5   2018           188 non-null    object\n",
      " 6   2017           188 non-null    object\n",
      " 7   2016           188 non-null    object\n",
      "dtypes: object(8)\n",
      "memory usage: 11.9+ KB\n"
     ]
    }
   ],
   "source": [
    "df.info()"
   ]
  },
  {
   "cell_type": "code",
   "execution_count": 5,
   "id": "830d2219",
   "metadata": {},
   "outputs": [],
   "source": [
    "#Removing the ',' so I can convert str to int\n",
    "\n",
    "df['2021 (so far)'] = df['2021 (so far)'].apply(lambda x: x.replace(\",\", \"\"))\n",
    "df['2020'] = df['2020'].apply(lambda x: x.replace(\",\", \"\"))\n",
    "df['2019'] = df['2019'].apply(lambda x: x.replace(\",\", \"\"))\n",
    "df['2018'] = df['2018'].apply(lambda x: x.replace(\",\", \"\"))\n",
    "df['2017'] = df['2017'].apply(lambda x: x.replace(\",\", \"\"))\n",
    "df['2016'] = df['2016'].apply(lambda x: x.replace(\",\", \"\"))"
   ]
  },
  {
   "cell_type": "code",
   "execution_count": 6,
   "id": "d83c3d86",
   "metadata": {},
   "outputs": [
    {
     "data": {
      "text/html": [
       "<div>\n",
       "<style scoped>\n",
       "    .dataframe tbody tr th:only-of-type {\n",
       "        vertical-align: middle;\n",
       "    }\n",
       "\n",
       "    .dataframe tbody tr th {\n",
       "        vertical-align: top;\n",
       "    }\n",
       "\n",
       "    .dataframe thead th {\n",
       "        text-align: right;\n",
       "    }\n",
       "</style>\n",
       "<table border=\"1\" class=\"dataframe\">\n",
       "  <thead>\n",
       "    <tr style=\"text-align: right;\">\n",
       "      <th></th>\n",
       "      <th>2021 (so far)</th>\n",
       "      <th>2020</th>\n",
       "      <th>2019</th>\n",
       "      <th>2018</th>\n",
       "      <th>2017</th>\n",
       "      <th>2016</th>\n",
       "    </tr>\n",
       "  </thead>\n",
       "  <tbody>\n",
       "    <tr>\n",
       "      <th>0</th>\n",
       "      <td>38402300</td>\n",
       "      <td>53984400</td>\n",
       "      <td>67974500</td>\n",
       "      <td>42255600</td>\n",
       "      <td>27058500</td>\n",
       "      <td>18618000</td>\n",
       "    </tr>\n",
       "    <tr>\n",
       "      <th>1</th>\n",
       "      <td>153971400</td>\n",
       "      <td>297437800</td>\n",
       "      <td>365030100</td>\n",
       "      <td>256687400</td>\n",
       "      <td>163845400</td>\n",
       "      <td>118511000</td>\n",
       "    </tr>\n",
       "    <tr>\n",
       "      <th>2</th>\n",
       "      <td>110537800</td>\n",
       "      <td>191977200</td>\n",
       "      <td>224315900</td>\n",
       "      <td>165630300</td>\n",
       "      <td>101086300</td>\n",
       "      <td>75714000</td>\n",
       "    </tr>\n",
       "    <tr>\n",
       "      <th>3</th>\n",
       "      <td>77203100</td>\n",
       "      <td>137051500</td>\n",
       "      <td>162382200</td>\n",
       "      <td>120920800</td>\n",
       "      <td>73921200</td>\n",
       "      <td>50755500</td>\n",
       "    </tr>\n",
       "    <tr>\n",
       "      <th>4</th>\n",
       "      <td>181831200</td>\n",
       "      <td>327847600</td>\n",
       "      <td>444056300</td>\n",
       "      <td>370415000</td>\n",
       "      <td>225702400</td>\n",
       "      <td>156221500</td>\n",
       "    </tr>\n",
       "  </tbody>\n",
       "</table>\n",
       "</div>"
      ],
      "text/plain": [
       "  2021 (so far)       2020       2019       2018       2017       2016\n",
       "0      38402300   53984400   67974500   42255600   27058500   18618000\n",
       "1     153971400  297437800  365030100  256687400  163845400  118511000\n",
       "2     110537800  191977200  224315900  165630300  101086300   75714000\n",
       "3      77203100  137051500  162382200  120920800   73921200   50755500\n",
       "4     181831200  327847600  444056300  370415000  225702400  156221500"
      ]
     },
     "execution_count": 6,
     "metadata": {},
     "output_type": "execute_result"
    }
   ],
   "source": [
    "#checking they are removed\n",
    "\n",
    "df[['2021 (so far)', '2020', '2019', '2018', '2017', '2016']].head()"
   ]
  },
  {
   "cell_type": "code",
   "execution_count": 7,
   "id": "70ac38af",
   "metadata": {},
   "outputs": [],
   "source": [
    "df['2021 (so far)'] = df['2021 (so far)'].astype(int)\n",
    "df['2020'] = df['2020'].astype(int)\n",
    "df['2019'] = df['2019'].astype(int)\n",
    "df['2018'] = df['2018'].astype(int)\n",
    "df['2017'] = df['2017'].astype(int)\n",
    "df['2016'] = df['2016'].astype(int)"
   ]
  },
  {
   "cell_type": "code",
   "execution_count": 8,
   "id": "ca5bc0b5",
   "metadata": {},
   "outputs": [
    {
     "data": {
      "text/plain": [
       "numpy.int64"
      ]
     },
     "execution_count": 8,
     "metadata": {},
     "output_type": "execute_result"
    }
   ],
   "source": [
    "#checking\n",
    "\n",
    "type(df['2020'][0])"
   ]
  },
  {
   "cell_type": "code",
   "execution_count": 9,
   "id": "21e87515",
   "metadata": {},
   "outputs": [],
   "source": [
    "df_totals = df[['2021 (so far)', '2020', '2019', '2018', '2017', '2016']].sum()\n",
    "df_totals = pd.DataFrame(df_totals)\n",
    "df_totals.reset_index()\n",
    "df_totals.columns=[\"total\"]"
   ]
  },
  {
   "cell_type": "code",
   "execution_count": 10,
   "id": "d5320d3a",
   "metadata": {},
   "outputs": [
    {
     "data": {
      "text/plain": [
       "Index(['2021 (so far)', '2020', '2019', '2018', '2017', '2016'], dtype='object', name='year')"
      ]
     },
     "execution_count": 10,
     "metadata": {},
     "output_type": "execute_result"
    }
   ],
   "source": [
    "df_totals.index.rename('year')"
   ]
  },
  {
   "cell_type": "code",
   "execution_count": 11,
   "id": "b34d8296",
   "metadata": {},
   "outputs": [
    {
     "data": {
      "text/html": [
       "<div>\n",
       "<style scoped>\n",
       "    .dataframe tbody tr th:only-of-type {\n",
       "        vertical-align: middle;\n",
       "    }\n",
       "\n",
       "    .dataframe tbody tr th {\n",
       "        vertical-align: top;\n",
       "    }\n",
       "\n",
       "    .dataframe thead th {\n",
       "        text-align: right;\n",
       "    }\n",
       "</style>\n",
       "<table border=\"1\" class=\"dataframe\">\n",
       "  <thead>\n",
       "    <tr style=\"text-align: right;\">\n",
       "      <th></th>\n",
       "      <th>total</th>\n",
       "    </tr>\n",
       "  </thead>\n",
       "  <tbody>\n",
       "    <tr>\n",
       "      <th>2021 (so far)</th>\n",
       "      <td>26442370900</td>\n",
       "    </tr>\n",
       "    <tr>\n",
       "      <th>2020</th>\n",
       "      <td>46058603400</td>\n",
       "    </tr>\n",
       "    <tr>\n",
       "      <th>2019</th>\n",
       "      <td>58565475900</td>\n",
       "    </tr>\n",
       "    <tr>\n",
       "      <th>2018</th>\n",
       "      <td>47617899700</td>\n",
       "    </tr>\n",
       "    <tr>\n",
       "      <th>2017</th>\n",
       "      <td>30399099900</td>\n",
       "    </tr>\n",
       "    <tr>\n",
       "      <th>2016</th>\n",
       "      <td>23484590000</td>\n",
       "    </tr>\n",
       "  </tbody>\n",
       "</table>\n",
       "</div>"
      ],
      "text/plain": [
       "                     total\n",
       "2021 (so far)  26442370900\n",
       "2020           46058603400\n",
       "2019           58565475900\n",
       "2018           47617899700\n",
       "2017           30399099900\n",
       "2016           23484590000"
      ]
     },
     "execution_count": 11,
     "metadata": {},
     "output_type": "execute_result"
    }
   ],
   "source": [
    "df_totals"
   ]
  },
  {
   "cell_type": "code",
   "execution_count": 51,
   "id": "341467e2",
   "metadata": {},
   "outputs": [
    {
     "data": {
      "text/plain": [
       "<AxesSubplot:>"
      ]
     },
     "execution_count": 51,
     "metadata": {},
     "output_type": "execute_result"
    },
    {
     "data": {
      "image/png": "[encoded data removed]",
      "text/plain": [
       "<Figure size 432x288 with 1 Axes>"
      ]
     },
     "metadata": {
      "needs_background": "light"
     },
     "output_type": "display_data"
    }
   ],
   "source": [
    "#What happened after 2019?\n",
    "\n",
    "df_totals.plot(kind='bar')"
   ]
  },
  {
   "cell_type": "code",
   "execution_count": 14,
   "id": "ad21b83f",
   "metadata": {},
   "outputs": [],
   "source": [
    "cols_to_sum = df.columns.values"
   ]
  },
  {
   "cell_type": "code",
   "execution_count": 15,
   "id": "954b8c88",
   "metadata": {},
   "outputs": [],
   "source": [
    "df['Total'] = df[cols_to_sum].sum(axis = 1)"
   ]
  },
  {
   "cell_type": "code",
   "execution_count": 21,
   "id": "0e36c836",
   "metadata": {},
   "outputs": [
    {
     "data": {
      "text/html": [
       "<div>\n",
       "<style scoped>\n",
       "    .dataframe tbody tr th:only-of-type {\n",
       "        vertical-align: middle;\n",
       "    }\n",
       "\n",
       "    .dataframe tbody tr th {\n",
       "        vertical-align: top;\n",
       "    }\n",
       "\n",
       "    .dataframe thead th {\n",
       "        text-align: right;\n",
       "    }\n",
       "</style>\n",
       "<table border=\"1\" class=\"dataframe\">\n",
       "  <thead>\n",
       "    <tr style=\"text-align: right;\">\n",
       "      <th></th>\n",
       "      <th>City</th>\n",
       "      <th>State</th>\n",
       "      <th>2021 (so far)</th>\n",
       "      <th>2020</th>\n",
       "      <th>2019</th>\n",
       "      <th>2018</th>\n",
       "      <th>2017</th>\n",
       "      <th>2016</th>\n",
       "      <th>Total</th>\n",
       "    </tr>\n",
       "  </thead>\n",
       "  <tbody>\n",
       "    <tr>\n",
       "      <th>7</th>\n",
       "      <td>Atlanta</td>\n",
       "      <td>GA</td>\n",
       "      <td>1000960000</td>\n",
       "      <td>1849974800</td>\n",
       "      <td>2323036100</td>\n",
       "      <td>2091151400</td>\n",
       "      <td>1362383600</td>\n",
       "      <td>1250466000</td>\n",
       "      <td>9877971900</td>\n",
       "    </tr>\n",
       "    <tr>\n",
       "      <th>41</th>\n",
       "      <td>Dallas</td>\n",
       "      <td>TX</td>\n",
       "      <td>939439500</td>\n",
       "      <td>1679555500</td>\n",
       "      <td>2199532300</td>\n",
       "      <td>1845251500</td>\n",
       "      <td>1175870000</td>\n",
       "      <td>982095500</td>\n",
       "      <td>8821744300</td>\n",
       "    </tr>\n",
       "    <tr>\n",
       "      <th>122</th>\n",
       "      <td>New York</td>\n",
       "      <td>NY</td>\n",
       "      <td>782982500</td>\n",
       "      <td>1391835200</td>\n",
       "      <td>1870007100</td>\n",
       "      <td>1728517300</td>\n",
       "      <td>1175411700</td>\n",
       "      <td>974481500</td>\n",
       "      <td>7923235300</td>\n",
       "    </tr>\n",
       "    <tr>\n",
       "      <th>29</th>\n",
       "      <td>Chicago</td>\n",
       "      <td>IL</td>\n",
       "      <td>814955000</td>\n",
       "      <td>1363815900</td>\n",
       "      <td>1780823300</td>\n",
       "      <td>1580507400</td>\n",
       "      <td>1105909500</td>\n",
       "      <td>872028500</td>\n",
       "      <td>7518039600</td>\n",
       "    </tr>\n",
       "    <tr>\n",
       "      <th>77</th>\n",
       "      <td>Houston</td>\n",
       "      <td>TX</td>\n",
       "      <td>720141300</td>\n",
       "      <td>1330977300</td>\n",
       "      <td>1782568100</td>\n",
       "      <td>1491645200</td>\n",
       "      <td>1011463300</td>\n",
       "      <td>961063500</td>\n",
       "      <td>7297858700</td>\n",
       "    </tr>\n",
       "  </tbody>\n",
       "</table>\n",
       "</div>"
      ],
      "text/plain": [
       "         City State  2021 (so far)        2020        2019        2018  \\\n",
       "7     Atlanta    GA     1000960000  1849974800  2323036100  2091151400   \n",
       "41     Dallas    TX      939439500  1679555500  2199532300  1845251500   \n",
       "122  New York    NY      782982500  1391835200  1870007100  1728517300   \n",
       "29    Chicago    IL      814955000  1363815900  1780823300  1580507400   \n",
       "77    Houston    TX      720141300  1330977300  1782568100  1491645200   \n",
       "\n",
       "           2017        2016       Total  \n",
       "7    1362383600  1250466000  9877971900  \n",
       "41   1175870000   982095500  8821744300  \n",
       "122  1175411700   974481500  7923235300  \n",
       "29   1105909500   872028500  7518039600  \n",
       "77   1011463300   961063500  7297858700  "
      ]
     },
     "execution_count": 21,
     "metadata": {},
     "output_type": "execute_result"
    }
   ],
   "source": [
    "df_sorted = df.sort_values(by='Total', ascending=False)\n",
    "df_sorted.head()"
   ]
  },
  {
   "cell_type": "code",
   "execution_count": 33,
   "id": "a15fcd83",
   "metadata": {},
   "outputs": [
    {
     "data": {
      "text/html": [
       "<div>\n",
       "<style scoped>\n",
       "    .dataframe tbody tr th:only-of-type {\n",
       "        vertical-align: middle;\n",
       "    }\n",
       "\n",
       "    .dataframe tbody tr th {\n",
       "        vertical-align: top;\n",
       "    }\n",
       "\n",
       "    .dataframe thead th {\n",
       "        text-align: right;\n",
       "    }\n",
       "</style>\n",
       "<table border=\"1\" class=\"dataframe\">\n",
       "  <thead>\n",
       "    <tr style=\"text-align: right;\">\n",
       "      <th></th>\n",
       "      <th>2021 (so far)</th>\n",
       "      <th>2020</th>\n",
       "      <th>2019</th>\n",
       "      <th>2018</th>\n",
       "      <th>2017</th>\n",
       "      <th>2016</th>\n",
       "      <th>Total</th>\n",
       "    </tr>\n",
       "  </thead>\n",
       "  <tbody>\n",
       "    <tr>\n",
       "      <th>count</th>\n",
       "      <td>1.880000e+02</td>\n",
       "      <td>1.880000e+02</td>\n",
       "      <td>1.880000e+02</td>\n",
       "      <td>1.880000e+02</td>\n",
       "      <td>1.880000e+02</td>\n",
       "      <td>1.880000e+02</td>\n",
       "      <td>1.880000e+02</td>\n",
       "    </tr>\n",
       "    <tr>\n",
       "      <th>mean</th>\n",
       "      <td>1.406509e+08</td>\n",
       "      <td>2.449926e+08</td>\n",
       "      <td>3.115185e+08</td>\n",
       "      <td>2.532867e+08</td>\n",
       "      <td>1.616973e+08</td>\n",
       "      <td>1.249180e+08</td>\n",
       "      <td>1.237064e+09</td>\n",
       "    </tr>\n",
       "    <tr>\n",
       "      <th>std</th>\n",
       "      <td>1.578000e+08</td>\n",
       "      <td>2.885434e+08</td>\n",
       "      <td>3.771059e+08</td>\n",
       "      <td>3.300546e+08</td>\n",
       "      <td>2.142665e+08</td>\n",
       "      <td>1.795423e+08</td>\n",
       "      <td>1.541397e+09</td>\n",
       "    </tr>\n",
       "    <tr>\n",
       "      <th>min</th>\n",
       "      <td>2.140000e+04</td>\n",
       "      <td>0.000000e+00</td>\n",
       "      <td>1.300000e+03</td>\n",
       "      <td>0.000000e+00</td>\n",
       "      <td>0.000000e+00</td>\n",
       "      <td>0.000000e+00</td>\n",
       "      <td>5.120000e+04</td>\n",
       "    </tr>\n",
       "    <tr>\n",
       "      <th>25%</th>\n",
       "      <td>4.827918e+07</td>\n",
       "      <td>8.020490e+07</td>\n",
       "      <td>1.019147e+08</td>\n",
       "      <td>7.551065e+07</td>\n",
       "      <td>4.893900e+07</td>\n",
       "      <td>3.495625e+07</td>\n",
       "      <td>3.917998e+08</td>\n",
       "    </tr>\n",
       "    <tr>\n",
       "      <th>50%</th>\n",
       "      <td>9.544275e+07</td>\n",
       "      <td>1.542200e+08</td>\n",
       "      <td>1.887948e+08</td>\n",
       "      <td>1.448508e+08</td>\n",
       "      <td>9.548185e+07</td>\n",
       "      <td>6.850725e+07</td>\n",
       "      <td>7.371950e+08</td>\n",
       "    </tr>\n",
       "    <tr>\n",
       "      <th>75%</th>\n",
       "      <td>1.720234e+08</td>\n",
       "      <td>2.961119e+08</td>\n",
       "      <td>3.912984e+08</td>\n",
       "      <td>3.073758e+08</td>\n",
       "      <td>1.979060e+08</td>\n",
       "      <td>1.477285e+08</td>\n",
       "      <td>1.488511e+09</td>\n",
       "    </tr>\n",
       "    <tr>\n",
       "      <th>max</th>\n",
       "      <td>1.000960e+09</td>\n",
       "      <td>1.849975e+09</td>\n",
       "      <td>2.323036e+09</td>\n",
       "      <td>2.091151e+09</td>\n",
       "      <td>1.362384e+09</td>\n",
       "      <td>1.250466e+09</td>\n",
       "      <td>9.877972e+09</td>\n",
       "    </tr>\n",
       "  </tbody>\n",
       "</table>\n",
       "</div>"
      ],
      "text/plain": [
       "       2021 (so far)          2020          2019          2018          2017  \\\n",
       "count   1.880000e+02  1.880000e+02  1.880000e+02  1.880000e+02  1.880000e+02   \n",
       "mean    1.406509e+08  2.449926e+08  3.115185e+08  2.532867e+08  1.616973e+08   \n",
       "std     1.578000e+08  2.885434e+08  3.771059e+08  3.300546e+08  2.142665e+08   \n",
       "min     2.140000e+04  0.000000e+00  1.300000e+03  0.000000e+00  0.000000e+00   \n",
       "25%     4.827918e+07  8.020490e+07  1.019147e+08  7.551065e+07  4.893900e+07   \n",
       "50%     9.544275e+07  1.542200e+08  1.887948e+08  1.448508e+08  9.548185e+07   \n",
       "75%     1.720234e+08  2.961119e+08  3.912984e+08  3.073758e+08  1.979060e+08   \n",
       "max     1.000960e+09  1.849975e+09  2.323036e+09  2.091151e+09  1.362384e+09   \n",
       "\n",
       "               2016         Total  \n",
       "count  1.880000e+02  1.880000e+02  \n",
       "mean   1.249180e+08  1.237064e+09  \n",
       "std    1.795423e+08  1.541397e+09  \n",
       "min    0.000000e+00  5.120000e+04  \n",
       "25%    3.495625e+07  3.917998e+08  \n",
       "50%    6.850725e+07  7.371950e+08  \n",
       "75%    1.477285e+08  1.488511e+09  \n",
       "max    1.250466e+09  9.877972e+09  "
      ]
     },
     "execution_count": 33,
     "metadata": {},
     "output_type": "execute_result"
    }
   ],
   "source": [
    "df_sorted.describe()"
   ]
  },
  {
   "cell_type": "code",
   "execution_count": 41,
   "id": "b0009f09",
   "metadata": {},
   "outputs": [
    {
     "data": {
      "text/plain": [
       "<AxesSubplot:xlabel='City,State,2021 (so far),2020,2019,2018,2017,2016,Total'>"
      ]
     },
     "execution_count": 41,
     "metadata": {},
     "output_type": "execute_result"
    },
    {
     "data": {
      "image/png": "[encoded data removed]",
      "text/plain": [
       "<Figure size 432x288 with 1 Axes>"
      ]
     },
     "metadata": {
      "needs_background": "light"
     },
     "output_type": "display_data"
    }
   ],
   "source": [
    "#line chart where each line is a city with year columns on the x axis\n",
    "\n",
    "df_sorted.value_counts().plot(kind='line')"
   ]
  }
 ],
 "metadata": {
  "kernelspec": {
   "display_name": "Python 3",
   "language": "python",
   "name": "python3"
  },
  "language_info": {
   "codemirror_mode": {
    "name": "ipython",
    "version": 3
   },
   "file_extension": ".py",
   "mimetype": "text/x-python",
   "name": "python",
   "nbconvert_exporter": "python",
   "pygments_lexer": "ipython3",
   "version": "3.9.5"
  }
 },
 "nbformat": 4,
 "nbformat_minor": 5
}
